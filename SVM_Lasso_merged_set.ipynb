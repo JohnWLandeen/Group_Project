{
 "cells": [
  {
   "cell_type": "code",
   "execution_count": 1,
   "id": "263953e6",
   "metadata": {},
   "outputs": [],
   "source": [
    "# Importing dependencies\n",
    "from sklearn import svm\n",
    "from sklearn.linear_model import Lasso\n",
    "from sklearn import metrics\n",
    "from sklearn import preprocessing\n",
    "from sklearn.model_selection import train_test_split as tts\n",
    "import pandas as pd\n",
    "import numpy as np\n",
    "\n"
   ]
  },
  {
   "cell_type": "code",
   "execution_count": 2,
   "id": "80e4404e",
   "metadata": {},
   "outputs": [],
   "source": [
    "# Importing data\n",
    "merge_set = pd.read_csv('C:\\\\Users\\\\John\\\\Documents\\\\Berkeley\\\\Classwork\\\\group project\\\\data\\\\Albert_cleaned_sets\\\\mega_merged.csv', index_col=0)"
   ]
  },
  {
   "cell_type": "code",
   "execution_count": 3,
   "id": "1c475808",
   "metadata": {
    "scrolled": true
   },
   "outputs": [
    {
     "data": {
      "text/html": [
       "<div>\n",
       "<style scoped>\n",
       "    .dataframe tbody tr th:only-of-type {\n",
       "        vertical-align: middle;\n",
       "    }\n",
       "\n",
       "    .dataframe tbody tr th {\n",
       "        vertical-align: top;\n",
       "    }\n",
       "\n",
       "    .dataframe thead th {\n",
       "        text-align: right;\n",
       "    }\n",
       "</style>\n",
       "<table border=\"1\" class=\"dataframe\">\n",
       "  <thead>\n",
       "    <tr style=\"text-align: right;\">\n",
       "      <th></th>\n",
       "      <th>State</th>\n",
       "      <th>Year</th>\n",
       "      <th>Population</th>\n",
       "      <th>Number of Cannabis Users</th>\n",
       "      <th>Number of Opioid Deaths</th>\n",
       "      <th>Per Capita Cannabis Use</th>\n",
       "      <th>Per Capita Opioid Deaths</th>\n",
       "      <th>Recreational</th>\n",
       "      <th>Rec Year Legalized</th>\n",
       "      <th>Medical</th>\n",
       "      <th>Med Year Legalized</th>\n",
       "      <th>Years legal (rec)</th>\n",
       "      <th>Years legal (med)</th>\n",
       "    </tr>\n",
       "  </thead>\n",
       "  <tbody>\n",
       "    <tr>\n",
       "      <th>0</th>\n",
       "      <td>Total U.S.</td>\n",
       "      <td>2014</td>\n",
       "      <td>318386329</td>\n",
       "      <td>34038000</td>\n",
       "      <td>47055</td>\n",
       "      <td>0.106908</td>\n",
       "      <td>0.000148</td>\n",
       "      <td>0</td>\n",
       "      <td>0</td>\n",
       "      <td>0</td>\n",
       "      <td>0</td>\n",
       "      <td>0</td>\n",
       "      <td>0</td>\n",
       "    </tr>\n",
       "    <tr>\n",
       "      <th>1</th>\n",
       "      <td>Total U.S.</td>\n",
       "      <td>2015</td>\n",
       "      <td>320738994</td>\n",
       "      <td>35584000</td>\n",
       "      <td>52404</td>\n",
       "      <td>0.110944</td>\n",
       "      <td>0.000163</td>\n",
       "      <td>0</td>\n",
       "      <td>0</td>\n",
       "      <td>0</td>\n",
       "      <td>0</td>\n",
       "      <td>0</td>\n",
       "      <td>0</td>\n",
       "    </tr>\n",
       "    <tr>\n",
       "      <th>2</th>\n",
       "      <td>Total U.S.</td>\n",
       "      <td>2016</td>\n",
       "      <td>323071755</td>\n",
       "      <td>36806000</td>\n",
       "      <td>63450</td>\n",
       "      <td>0.113925</td>\n",
       "      <td>0.000196</td>\n",
       "      <td>0</td>\n",
       "      <td>0</td>\n",
       "      <td>0</td>\n",
       "      <td>0</td>\n",
       "      <td>0</td>\n",
       "      <td>0</td>\n",
       "    </tr>\n",
       "    <tr>\n",
       "      <th>3</th>\n",
       "      <td>Total U.S.</td>\n",
       "      <td>2017</td>\n",
       "      <td>325122128</td>\n",
       "      <td>39252000</td>\n",
       "      <td>70237</td>\n",
       "      <td>0.120730</td>\n",
       "      <td>0.000216</td>\n",
       "      <td>0</td>\n",
       "      <td>0</td>\n",
       "      <td>0</td>\n",
       "      <td>0</td>\n",
       "      <td>0</td>\n",
       "      <td>0</td>\n",
       "    </tr>\n",
       "    <tr>\n",
       "      <th>4</th>\n",
       "      <td>Total U.S.</td>\n",
       "      <td>2018</td>\n",
       "      <td>326838199</td>\n",
       "      <td>42211000</td>\n",
       "      <td>56144</td>\n",
       "      <td>0.129150</td>\n",
       "      <td>0.000172</td>\n",
       "      <td>0</td>\n",
       "      <td>0</td>\n",
       "      <td>0</td>\n",
       "      <td>0</td>\n",
       "      <td>0</td>\n",
       "      <td>0</td>\n",
       "    </tr>\n",
       "  </tbody>\n",
       "</table>\n",
       "</div>"
      ],
      "text/plain": [
       "        State  Year  Population  Number of Cannabis Users  \\\n",
       "0  Total U.S.  2014   318386329                  34038000   \n",
       "1  Total U.S.  2015   320738994                  35584000   \n",
       "2  Total U.S.  2016   323071755                  36806000   \n",
       "3  Total U.S.  2017   325122128                  39252000   \n",
       "4  Total U.S.  2018   326838199                  42211000   \n",
       "\n",
       "   Number of Opioid Deaths  Per Capita Cannabis Use  Per Capita Opioid Deaths  \\\n",
       "0                    47055                 0.106908                  0.000148   \n",
       "1                    52404                 0.110944                  0.000163   \n",
       "2                    63450                 0.113925                  0.000196   \n",
       "3                    70237                 0.120730                  0.000216   \n",
       "4                    56144                 0.129150                  0.000172   \n",
       "\n",
       "   Recreational  Rec Year Legalized  Medical  Med Year Legalized  \\\n",
       "0             0                   0        0                   0   \n",
       "1             0                   0        0                   0   \n",
       "2             0                   0        0                   0   \n",
       "3             0                   0        0                   0   \n",
       "4             0                   0        0                   0   \n",
       "\n",
       "   Years legal (rec)  Years legal (med)  \n",
       "0                  0                  0  \n",
       "1                  0                  0  \n",
       "2                  0                  0  \n",
       "3                  0                  0  \n",
       "4                  0                  0  "
      ]
     },
     "execution_count": 3,
     "metadata": {},
     "output_type": "execute_result"
    }
   ],
   "source": [
    "merge_set.head()"
   ]
  },
  {
   "cell_type": "code",
   "execution_count": 4,
   "id": "6554cc1e",
   "metadata": {},
   "outputs": [],
   "source": [
    "# Dropping first 7 rows being country summation.\n",
    "merge_set = merge_set.iloc[7:]"
   ]
  },
  {
   "cell_type": "code",
   "execution_count": 5,
   "id": "d9d5d8ed",
   "metadata": {},
   "outputs": [],
   "source": [
    "# Label encoding\n",
    "le = preprocessing.LabelEncoder()\n",
    "merge_set.State = le.fit_transform(merge_set.State)"
   ]
  },
  {
   "cell_type": "code",
   "execution_count": 6,
   "id": "39f4943a",
   "metadata": {},
   "outputs": [
    {
     "data": {
      "text/html": [
       "<div>\n",
       "<style scoped>\n",
       "    .dataframe tbody tr th:only-of-type {\n",
       "        vertical-align: middle;\n",
       "    }\n",
       "\n",
       "    .dataframe tbody tr th {\n",
       "        vertical-align: top;\n",
       "    }\n",
       "\n",
       "    .dataframe thead th {\n",
       "        text-align: right;\n",
       "    }\n",
       "</style>\n",
       "<table border=\"1\" class=\"dataframe\">\n",
       "  <thead>\n",
       "    <tr style=\"text-align: right;\">\n",
       "      <th></th>\n",
       "      <th>State</th>\n",
       "      <th>Year</th>\n",
       "      <th>Population</th>\n",
       "      <th>Number of Cannabis Users</th>\n",
       "      <th>Number of Opioid Deaths</th>\n",
       "      <th>Per Capita Cannabis Use</th>\n",
       "      <th>Per Capita Opioid Deaths</th>\n",
       "      <th>Recreational</th>\n",
       "      <th>Rec Year Legalized</th>\n",
       "      <th>Medical</th>\n",
       "      <th>Med Year Legalized</th>\n",
       "      <th>Years legal (rec)</th>\n",
       "      <th>Years legal (med)</th>\n",
       "    </tr>\n",
       "  </thead>\n",
       "  <tbody>\n",
       "    <tr>\n",
       "      <th>7</th>\n",
       "      <td>34</td>\n",
       "      <td>2014</td>\n",
       "      <td>738736</td>\n",
       "      <td>62000</td>\n",
       "      <td>43</td>\n",
       "      <td>0.083927</td>\n",
       "      <td>0.000058</td>\n",
       "      <td>0</td>\n",
       "      <td>0</td>\n",
       "      <td>1</td>\n",
       "      <td>2016</td>\n",
       "      <td>0</td>\n",
       "      <td>6</td>\n",
       "    </tr>\n",
       "    <tr>\n",
       "      <th>8</th>\n",
       "      <td>34</td>\n",
       "      <td>2015</td>\n",
       "      <td>755537</td>\n",
       "      <td>61000</td>\n",
       "      <td>61</td>\n",
       "      <td>0.080737</td>\n",
       "      <td>0.000081</td>\n",
       "      <td>0</td>\n",
       "      <td>0</td>\n",
       "      <td>1</td>\n",
       "      <td>2016</td>\n",
       "      <td>0</td>\n",
       "      <td>6</td>\n",
       "    </tr>\n",
       "    <tr>\n",
       "      <th>9</th>\n",
       "      <td>34</td>\n",
       "      <td>2016</td>\n",
       "      <td>756114</td>\n",
       "      <td>61000</td>\n",
       "      <td>77</td>\n",
       "      <td>0.080676</td>\n",
       "      <td>0.000102</td>\n",
       "      <td>0</td>\n",
       "      <td>0</td>\n",
       "      <td>1</td>\n",
       "      <td>2016</td>\n",
       "      <td>0</td>\n",
       "      <td>6</td>\n",
       "    </tr>\n",
       "    <tr>\n",
       "      <th>10</th>\n",
       "      <td>34</td>\n",
       "      <td>2017</td>\n",
       "      <td>756755</td>\n",
       "      <td>68000</td>\n",
       "      <td>68</td>\n",
       "      <td>0.089857</td>\n",
       "      <td>0.000090</td>\n",
       "      <td>0</td>\n",
       "      <td>0</td>\n",
       "      <td>1</td>\n",
       "      <td>2016</td>\n",
       "      <td>0</td>\n",
       "      <td>6</td>\n",
       "    </tr>\n",
       "    <tr>\n",
       "      <th>11</th>\n",
       "      <td>34</td>\n",
       "      <td>2018</td>\n",
       "      <td>760062</td>\n",
       "      <td>74000</td>\n",
       "      <td>70</td>\n",
       "      <td>0.097360</td>\n",
       "      <td>0.000092</td>\n",
       "      <td>0</td>\n",
       "      <td>0</td>\n",
       "      <td>1</td>\n",
       "      <td>2016</td>\n",
       "      <td>0</td>\n",
       "      <td>6</td>\n",
       "    </tr>\n",
       "  </tbody>\n",
       "</table>\n",
       "</div>"
      ],
      "text/plain": [
       "    State  Year  Population  Number of Cannabis Users  \\\n",
       "7      34  2014      738736                     62000   \n",
       "8      34  2015      755537                     61000   \n",
       "9      34  2016      756114                     61000   \n",
       "10     34  2017      756755                     68000   \n",
       "11     34  2018      760062                     74000   \n",
       "\n",
       "    Number of Opioid Deaths  Per Capita Cannabis Use  \\\n",
       "7                        43                 0.083927   \n",
       "8                        61                 0.080737   \n",
       "9                        77                 0.080676   \n",
       "10                       68                 0.089857   \n",
       "11                       70                 0.097360   \n",
       "\n",
       "    Per Capita Opioid Deaths  Recreational  Rec Year Legalized  Medical  \\\n",
       "7                   0.000058             0                   0        1   \n",
       "8                   0.000081             0                   0        1   \n",
       "9                   0.000102             0                   0        1   \n",
       "10                  0.000090             0                   0        1   \n",
       "11                  0.000092             0                   0        1   \n",
       "\n",
       "    Med Year Legalized  Years legal (rec)  Years legal (med)  \n",
       "7                 2016                  0                  6  \n",
       "8                 2016                  0                  6  \n",
       "9                 2016                  0                  6  \n",
       "10                2016                  0                  6  \n",
       "11                2016                  0                  6  "
      ]
     },
     "execution_count": 6,
     "metadata": {},
     "output_type": "execute_result"
    }
   ],
   "source": [
    "merge_set.head()"
   ]
  },
  {
   "cell_type": "code",
   "execution_count": 7,
   "id": "8e87eae4",
   "metadata": {},
   "outputs": [
    {
     "data": {
      "text/plain": [
       "State                         int32\n",
       "Year                          int64\n",
       "Population                    int64\n",
       "Number of Cannabis Users      int64\n",
       "Number of Opioid Deaths       int64\n",
       "Per Capita Cannabis Use     float64\n",
       "Per Capita Opioid Deaths    float64\n",
       "Recreational                  int64\n",
       "Rec Year Legalized            int64\n",
       "Medical                       int64\n",
       "Med Year Legalized            int64\n",
       "Years legal (rec)             int64\n",
       "Years legal (med)             int64\n",
       "dtype: object"
      ]
     },
     "execution_count": 7,
     "metadata": {},
     "output_type": "execute_result"
    }
   ],
   "source": [
    "# Displaying data types\n",
    "merge_set.dtypes"
   ]
  },
  {
   "cell_type": "code",
   "execution_count": 8,
   "id": "58fc2d4a",
   "metadata": {},
   "outputs": [],
   "source": [
    "# Defining X and y\n",
    "y = merge_set['Number of Opioid Deaths']\n",
    "X = merge_set.drop('Number of Opioid Deaths', axis = 1)"
   ]
  },
  {
   "cell_type": "code",
   "execution_count": 9,
   "id": "fc97652d",
   "metadata": {},
   "outputs": [],
   "source": [
    "###Splitting train/test data\n",
    "X_tr, X_tst, y_tr, y_tst = tts(X, y, test_size=25/100,random_state=109)"
   ]
  },
  {
   "cell_type": "code",
   "execution_count": 10,
   "id": "53525524",
   "metadata": {},
   "outputs": [],
   "source": [
    "###Creating Support Vector Machine Model\n",
    "clf = svm.SVR(kernel='rbf')"
   ]
  },
  {
   "cell_type": "code",
   "execution_count": 11,
   "id": "53795f07",
   "metadata": {},
   "outputs": [
    {
     "data": {
      "text/html": [
       "<style>#sk-container-id-1 {color: black;background-color: white;}#sk-container-id-1 pre{padding: 0;}#sk-container-id-1 div.sk-toggleable {background-color: white;}#sk-container-id-1 label.sk-toggleable__label {cursor: pointer;display: block;width: 100%;margin-bottom: 0;padding: 0.3em;box-sizing: border-box;text-align: center;}#sk-container-id-1 label.sk-toggleable__label-arrow:before {content: \"▸\";float: left;margin-right: 0.25em;color: #696969;}#sk-container-id-1 label.sk-toggleable__label-arrow:hover:before {color: black;}#sk-container-id-1 div.sk-estimator:hover label.sk-toggleable__label-arrow:before {color: black;}#sk-container-id-1 div.sk-toggleable__content {max-height: 0;max-width: 0;overflow: hidden;text-align: left;background-color: #f0f8ff;}#sk-container-id-1 div.sk-toggleable__content pre {margin: 0.2em;color: black;border-radius: 0.25em;background-color: #f0f8ff;}#sk-container-id-1 input.sk-toggleable__control:checked~div.sk-toggleable__content {max-height: 200px;max-width: 100%;overflow: auto;}#sk-container-id-1 input.sk-toggleable__control:checked~label.sk-toggleable__label-arrow:before {content: \"▾\";}#sk-container-id-1 div.sk-estimator input.sk-toggleable__control:checked~label.sk-toggleable__label {background-color: #d4ebff;}#sk-container-id-1 div.sk-label input.sk-toggleable__control:checked~label.sk-toggleable__label {background-color: #d4ebff;}#sk-container-id-1 input.sk-hidden--visually {border: 0;clip: rect(1px 1px 1px 1px);clip: rect(1px, 1px, 1px, 1px);height: 1px;margin: -1px;overflow: hidden;padding: 0;position: absolute;width: 1px;}#sk-container-id-1 div.sk-estimator {font-family: monospace;background-color: #f0f8ff;border: 1px dotted black;border-radius: 0.25em;box-sizing: border-box;margin-bottom: 0.5em;}#sk-container-id-1 div.sk-estimator:hover {background-color: #d4ebff;}#sk-container-id-1 div.sk-parallel-item::after {content: \"\";width: 100%;border-bottom: 1px solid gray;flex-grow: 1;}#sk-container-id-1 div.sk-label:hover label.sk-toggleable__label {background-color: #d4ebff;}#sk-container-id-1 div.sk-serial::before {content: \"\";position: absolute;border-left: 1px solid gray;box-sizing: border-box;top: 0;bottom: 0;left: 50%;z-index: 0;}#sk-container-id-1 div.sk-serial {display: flex;flex-direction: column;align-items: center;background-color: white;padding-right: 0.2em;padding-left: 0.2em;position: relative;}#sk-container-id-1 div.sk-item {position: relative;z-index: 1;}#sk-container-id-1 div.sk-parallel {display: flex;align-items: stretch;justify-content: center;background-color: white;position: relative;}#sk-container-id-1 div.sk-item::before, #sk-container-id-1 div.sk-parallel-item::before {content: \"\";position: absolute;border-left: 1px solid gray;box-sizing: border-box;top: 0;bottom: 0;left: 50%;z-index: -1;}#sk-container-id-1 div.sk-parallel-item {display: flex;flex-direction: column;z-index: 1;position: relative;background-color: white;}#sk-container-id-1 div.sk-parallel-item:first-child::after {align-self: flex-end;width: 50%;}#sk-container-id-1 div.sk-parallel-item:last-child::after {align-self: flex-start;width: 50%;}#sk-container-id-1 div.sk-parallel-item:only-child::after {width: 0;}#sk-container-id-1 div.sk-dashed-wrapped {border: 1px dashed gray;margin: 0 0.4em 0.5em 0.4em;box-sizing: border-box;padding-bottom: 0.4em;background-color: white;}#sk-container-id-1 div.sk-label label {font-family: monospace;font-weight: bold;display: inline-block;line-height: 1.2em;}#sk-container-id-1 div.sk-label-container {text-align: center;}#sk-container-id-1 div.sk-container {/* jupyter's `normalize.less` sets `[hidden] { display: none; }` but bootstrap.min.css set `[hidden] { display: none !important; }` so we also need the `!important` here to be able to override the default hidden behavior on the sphinx rendered scikit-learn.org. See: https://github.com/scikit-learn/scikit-learn/issues/21755 */display: inline-block !important;position: relative;}#sk-container-id-1 div.sk-text-repr-fallback {display: none;}</style><div id=\"sk-container-id-1\" class=\"sk-top-container\"><div class=\"sk-text-repr-fallback\"><pre>SVR()</pre><b>In a Jupyter environment, please rerun this cell to show the HTML representation or trust the notebook. <br />On GitHub, the HTML representation is unable to render, please try loading this page with nbviewer.org.</b></div><div class=\"sk-container\" hidden><div class=\"sk-item\"><div class=\"sk-estimator sk-toggleable\"><input class=\"sk-toggleable__control sk-hidden--visually\" id=\"sk-estimator-id-1\" type=\"checkbox\" checked><label for=\"sk-estimator-id-1\" class=\"sk-toggleable__label sk-toggleable__label-arrow\">SVR</label><div class=\"sk-toggleable__content\"><pre>SVR()</pre></div></div></div></div></div>"
      ],
      "text/plain": [
       "SVR()"
      ]
     },
     "execution_count": 11,
     "metadata": {},
     "output_type": "execute_result"
    }
   ],
   "source": [
    "###Training the Model\n",
    "clf.fit(X_tr, y_tr)"
   ]
  },
  {
   "cell_type": "code",
   "execution_count": 12,
   "id": "47abe161",
   "metadata": {},
   "outputs": [
    {
     "name": "stdout",
     "output_type": "stream",
     "text": [
      "[835.79606013 820.40137347 842.6866744  823.57879681 899.17258352\n",
      " 823.71079343 820.28811451 884.99216683 842.59158418 893.18846556\n",
      " 852.15141267 828.74003972 828.67631199 863.79106431 881.73185888\n",
      " 836.34661086 872.09027649 820.38651993 866.3904223  928.66985133\n",
      " 825.4224388  846.18559429 928.56509105 838.5286043  835.67422438\n",
      " 872.03356905 886.47024229 836.25890154 881.00091781 823.52391835\n",
      " 886.56794894 821.53713117 916.58782475 872.82967287 835.76608382\n",
      " 828.84087559 915.01807327 836.35441417 901.84696938 820.9053119\n",
      " 852.70838268 882.2053626  849.50990984 900.8736499  880.79467867\n",
      " 822.07009303 881.07757716 857.60322472 819.67849751 847.01159272\n",
      " 821.94159304 823.91125517 868.76512185 835.673988   886.93720146\n",
      " 836.42825727 928.132825   838.01557583 883.36686043 820.04001028\n",
      " 820.3636205  854.89216732 819.687161   826.59701929 823.998792\n",
      " 823.94192567 854.70268413 869.3109624  819.88566291 865.24826774\n",
      " 919.24556306 858.32542176 836.3248488  880.54722787 823.52780872\n",
      " 917.54242856 823.57114033 924.73248811 928.48520462 820.41045953\n",
      " 821.89993506 890.98654805 820.8281969  887.90677207 904.44216544\n",
      " 837.76989428 914.74191836]\n"
     ]
    }
   ],
   "source": [
    "###Making Predictions\n",
    "y_pr = clf.predict(X_tst)\n",
    "print(y_pr)"
   ]
  },
  {
   "cell_type": "code",
   "execution_count": 13,
   "id": "c3457cff",
   "metadata": {},
   "outputs": [],
   "source": [
    "# Creating scoring function\n",
    "def score(y_pred, y_true):\n",
    "    error = np.square(np.log10(y_pred +1) - np.log10(y_true +1)).mean() ** 0.5\n",
    "    score = 1 - error\n",
    "    return score"
   ]
  },
  {
   "cell_type": "code",
   "execution_count": 14,
   "id": "5e5ddb79",
   "metadata": {},
   "outputs": [
    {
     "data": {
      "text/plain": [
       "0.5053847926751203"
      ]
     },
     "execution_count": 14,
     "metadata": {},
     "output_type": "execute_result"
    }
   ],
   "source": [
    "# SVM Score\n",
    "score(y_pr, y_tst)"
   ]
  },
  {
   "cell_type": "code",
   "execution_count": 15,
   "id": "10657e76",
   "metadata": {},
   "outputs": [],
   "source": [
    "# Defining Lasso_model\n",
    "Lasso_model = Lasso(normalize=True, alpha = 0.01, )"
   ]
  },
  {
   "cell_type": "code",
   "execution_count": 16,
   "id": "7adffb83",
   "metadata": {},
   "outputs": [
    {
     "name": "stderr",
     "output_type": "stream",
     "text": [
      "C:\\Users\\John\\AppData\\Local\\Programs\\Python\\Python310\\lib\\site-packages\\sklearn\\linear_model\\_base.py:141: FutureWarning: 'normalize' was deprecated in version 1.0 and will be removed in 1.2.\n",
      "If you wish to scale the data, use Pipeline with a StandardScaler in a preprocessing stage. To reproduce the previous behavior:\n",
      "\n",
      "from sklearn.pipeline import make_pipeline\n",
      "\n",
      "model = make_pipeline(StandardScaler(with_mean=False), Lasso())\n",
      "\n",
      "If you wish to pass a sample_weight parameter, you need to pass it as a fit parameter to each step of the pipeline as follows:\n",
      "\n",
      "kwargs = {s[0] + '__sample_weight': sample_weight for s in model.steps}\n",
      "model.fit(X, y, **kwargs)\n",
      "\n",
      "Set parameter alpha to: original_alpha * np.sqrt(n_samples). \n",
      "  warnings.warn(\n"
     ]
    }
   ],
   "source": [
    "# Fitting and predicting on model\n",
    "Lasso_model.fit(X_tr, y_tr)\n",
    "y_pred = Lasso_model.predict(X_tst)"
   ]
  },
  {
   "cell_type": "code",
   "execution_count": 17,
   "id": "18966c68",
   "metadata": {},
   "outputs": [
    {
     "name": "stderr",
     "output_type": "stream",
     "text": [
      "C:\\Users\\John\\AppData\\Local\\Temp\\ipykernel_31112\\2653118608.py:2: RuntimeWarning: invalid value encountered in log10\n",
      "  error = np.square(np.log10(y_pred +1) - np.log10(y_true +1)).mean() ** 0.5\n"
     ]
    },
    {
     "data": {
      "text/plain": [
       "0.8140313031805437"
      ]
     },
     "execution_count": 17,
     "metadata": {},
     "output_type": "execute_result"
    }
   ],
   "source": [
    "#Lasso Score\n",
    "score(y_pred, y_tst)"
   ]
  },
  {
   "cell_type": "code",
   "execution_count": 18,
   "id": "0a9f7dc4",
   "metadata": {},
   "outputs": [
    {
     "name": "stdout",
     "output_type": "stream",
     "text": [
      "MAE: 854.1900942343779\n"
     ]
    }
   ],
   "source": [
    "###Evaluating Prediction MAE SVM\n",
    "print(\"MAE:\",metrics.mean_absolute_error(y_tst, y_pr))"
   ]
  },
  {
   "cell_type": "code",
   "execution_count": 19,
   "id": "75589a83",
   "metadata": {},
   "outputs": [
    {
     "name": "stdout",
     "output_type": "stream",
     "text": [
      "MAE: 306.58777789694216\n"
     ]
    }
   ],
   "source": [
    "###Evaluating Prediction MAE Lasso\n",
    "print(\"MAE:\",metrics.mean_absolute_error(y_tst, y_pred))"
   ]
  },
  {
   "cell_type": "code",
   "execution_count": 20,
   "id": "84dccd92",
   "metadata": {},
   "outputs": [
    {
     "name": "stdout",
     "output_type": "stream",
     "text": [
      "RMSE: 1440.319703916147\n"
     ]
    }
   ],
   "source": [
    "###Evaluating Prediction RMSE SVM\n",
    "print(\"RMSE:\",np.sqrt(metrics.mean_squared_error(y_tst, y_pr)))"
   ]
  },
  {
   "cell_type": "code",
   "execution_count": 21,
   "id": "1f74cfbe",
   "metadata": {},
   "outputs": [
    {
     "name": "stdout",
     "output_type": "stream",
     "text": [
      "RMSE: 512.4895721430397\n"
     ]
    }
   ],
   "source": [
    "###Evaluating Prediction RMSE Lasso\n",
    "print(\"RMSE:\",np.sqrt(metrics.mean_squared_error(y_tst, y_pred)))"
   ]
  },
  {
   "cell_type": "code",
   "execution_count": 22,
   "id": "4c545dbe",
   "metadata": {},
   "outputs": [
    {
     "name": "stdout",
     "output_type": "stream",
     "text": [
      "r2: -0.02942802616367768\n"
     ]
    }
   ],
   "source": [
    "###Evaluating Prediction r2 SVM\n",
    "print(\"r2:\",metrics.r2_score(y_tst, y_pr))"
   ]
  },
  {
   "cell_type": "code",
   "execution_count": 23,
   "id": "01925102",
   "metadata": {},
   "outputs": [
    {
     "name": "stdout",
     "output_type": "stream",
     "text": [
      "r2: 0.8696688432516033\n"
     ]
    }
   ],
   "source": [
    "###Evaluating Prediction r2 Lasso\n",
    "print(\"r2:\",metrics.r2_score(y_tst, y_pred))"
   ]
  },
  {
   "cell_type": "code",
   "execution_count": 24,
   "id": "f1d2996e",
   "metadata": {},
   "outputs": [],
   "source": [
    "# Conclusion: Lasso delivers considerably better scores than SVM. Lasso's MAE of around 300 might not be the very best a model has to offer."
   ]
  },
  {
   "cell_type": "code",
   "execution_count": 25,
   "id": "d4b36f89",
   "metadata": {},
   "outputs": [
    {
     "data": {
      "text/plain": [
       "309    -170.796060\n",
       "8      -759.401373\n",
       "232    -219.686674\n",
       "215    -356.578797\n",
       "35     1701.827416\n",
       "          ...     \n",
       "21     -757.828197\n",
       "152     214.093228\n",
       "177     348.557835\n",
       "30     -523.769894\n",
       "228    1779.258082\n",
       "Name: Number of Opioid Deaths, Length: 87, dtype: float64"
      ]
     },
     "execution_count": 25,
     "metadata": {},
     "output_type": "execute_result"
    }
   ],
   "source": [
    "# Checking residuals\n",
    "y_tst - y_pr"
   ]
  },
  {
   "cell_type": "code",
   "execution_count": null,
   "id": "9cd13c08",
   "metadata": {},
   "outputs": [],
   "source": []
  }
 ],
 "metadata": {
  "kernelspec": {
   "display_name": "Python 3 (ipykernel)",
   "language": "python",
   "name": "python3"
  },
  "language_info": {
   "codemirror_mode": {
    "name": "ipython",
    "version": 3
   },
   "file_extension": ".py",
   "mimetype": "text/x-python",
   "name": "python",
   "nbconvert_exporter": "python",
   "pygments_lexer": "ipython3",
   "version": "3.10.0"
  }
 },
 "nbformat": 4,
 "nbformat_minor": 5
}
