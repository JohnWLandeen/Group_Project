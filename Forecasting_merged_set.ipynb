{
 "cells": [
  {
   "cell_type": "code",
   "execution_count": 161,
   "id": "5e22e422",
   "metadata": {},
   "outputs": [],
   "source": [
    "import numpy as np\n",
    "import pandas as pd\n",
    "\n",
    "# Plots\n",
    "import matplotlib.pyplot as plt\n",
    "plt.style.use('fivethirtyeight')\n",
    "plt.rcParams['lines.linewidth'] = 1.5\n",
    "%matplotlib inline\n",
    "\n",
    "# Modeling and Forecasting\n",
    "from sklearn.linear_model import LinearRegression\n",
    "from sklearn.linear_model import Lasso\n",
    "from sklearn.ensemble import RandomForestRegressor\n",
    "from sklearn.metrics import mean_squared_error\n",
    "from sklearn.preprocessing import StandardScaler, LabelEncoder\n",
    "from sklearn.pipeline import make_pipeline\n",
    "\n",
    "from skforecast.ForecasterAutoreg import ForecasterAutoreg\n",
    "from skforecast.ForecasterAutoregCustom import ForecasterAutoregCustom\n",
    "from skforecast.ForecasterAutoregDirect import ForecasterAutoregDirect\n",
    "from skforecast.model_selection import grid_search_forecaster\n",
    "from skforecast.model_selection import backtesting_forecaster\n",
    "from skforecast.utils import save_forecaster\n",
    "from skforecast.utils import load_forecaster\n",
    "from datetime import datetime, date\n",
    "\n",
    "# Warnings configuration\n",
    "import warnings"
   ]
  },
  {
   "cell_type": "code",
   "execution_count": 162,
   "id": "11c8b3c9",
   "metadata": {},
   "outputs": [],
   "source": [
    "data = pd.read_csv('C:\\\\Users\\\\John\\\\Documents\\\\Berkeley\\\\Classwork\\\\group project\\\\data\\\\Albert_cleaned_sets\\\\mega_merged.csv', index_col=0)"
   ]
  },
  {
   "cell_type": "code",
   "execution_count": 163,
   "id": "4de47d02",
   "metadata": {},
   "outputs": [
    {
     "data": {
      "text/plain": [
       "State                        object\n",
       "Year                          int64\n",
       "Population                    int64\n",
       "Number of Cannabis Users      int64\n",
       "Number of Opioid Deaths       int64\n",
       "Per Capita Cannabis Use     float64\n",
       "Per Capita Opioid Deaths    float64\n",
       "Recreational                  int64\n",
       "Rec Year Legalized            int64\n",
       "Medical                       int64\n",
       "Med Year Legalized            int64\n",
       "Years legal (rec)             int64\n",
       "Years legal (med)             int64\n",
       "dtype: object"
      ]
     },
     "execution_count": 163,
     "metadata": {},
     "output_type": "execute_result"
    }
   ],
   "source": [
    "data.dtypes"
   ]
  },
  {
   "cell_type": "code",
   "execution_count": 164,
   "id": "368e0777",
   "metadata": {},
   "outputs": [
    {
     "data": {
      "text/html": [
       "<div>\n",
       "<style scoped>\n",
       "    .dataframe tbody tr th:only-of-type {\n",
       "        vertical-align: middle;\n",
       "    }\n",
       "\n",
       "    .dataframe tbody tr th {\n",
       "        vertical-align: top;\n",
       "    }\n",
       "\n",
       "    .dataframe thead th {\n",
       "        text-align: right;\n",
       "    }\n",
       "</style>\n",
       "<table border=\"1\" class=\"dataframe\">\n",
       "  <thead>\n",
       "    <tr style=\"text-align: right;\">\n",
       "      <th></th>\n",
       "      <th>State</th>\n",
       "      <th>Year</th>\n",
       "      <th>Population</th>\n",
       "      <th>Number of Cannabis Users</th>\n",
       "      <th>Number of Opioid Deaths</th>\n",
       "      <th>Per Capita Cannabis Use</th>\n",
       "      <th>Per Capita Opioid Deaths</th>\n",
       "      <th>Recreational</th>\n",
       "      <th>Rec Year Legalized</th>\n",
       "      <th>Medical</th>\n",
       "      <th>Med Year Legalized</th>\n",
       "      <th>Years legal (rec)</th>\n",
       "      <th>Years legal (med)</th>\n",
       "    </tr>\n",
       "  </thead>\n",
       "  <tbody>\n",
       "    <tr>\n",
       "      <th>0</th>\n",
       "      <td>Total U.S.</td>\n",
       "      <td>2014</td>\n",
       "      <td>318386329</td>\n",
       "      <td>34038000</td>\n",
       "      <td>47055</td>\n",
       "      <td>0.106908</td>\n",
       "      <td>0.000148</td>\n",
       "      <td>0</td>\n",
       "      <td>0</td>\n",
       "      <td>0</td>\n",
       "      <td>0</td>\n",
       "      <td>0</td>\n",
       "      <td>0</td>\n",
       "    </tr>\n",
       "    <tr>\n",
       "      <th>1</th>\n",
       "      <td>Total U.S.</td>\n",
       "      <td>2015</td>\n",
       "      <td>320738994</td>\n",
       "      <td>35584000</td>\n",
       "      <td>52404</td>\n",
       "      <td>0.110944</td>\n",
       "      <td>0.000163</td>\n",
       "      <td>0</td>\n",
       "      <td>0</td>\n",
       "      <td>0</td>\n",
       "      <td>0</td>\n",
       "      <td>0</td>\n",
       "      <td>0</td>\n",
       "    </tr>\n",
       "    <tr>\n",
       "      <th>2</th>\n",
       "      <td>Total U.S.</td>\n",
       "      <td>2016</td>\n",
       "      <td>323071755</td>\n",
       "      <td>36806000</td>\n",
       "      <td>63450</td>\n",
       "      <td>0.113925</td>\n",
       "      <td>0.000196</td>\n",
       "      <td>0</td>\n",
       "      <td>0</td>\n",
       "      <td>0</td>\n",
       "      <td>0</td>\n",
       "      <td>0</td>\n",
       "      <td>0</td>\n",
       "    </tr>\n",
       "    <tr>\n",
       "      <th>3</th>\n",
       "      <td>Total U.S.</td>\n",
       "      <td>2017</td>\n",
       "      <td>325122128</td>\n",
       "      <td>39252000</td>\n",
       "      <td>70237</td>\n",
       "      <td>0.120730</td>\n",
       "      <td>0.000216</td>\n",
       "      <td>0</td>\n",
       "      <td>0</td>\n",
       "      <td>0</td>\n",
       "      <td>0</td>\n",
       "      <td>0</td>\n",
       "      <td>0</td>\n",
       "    </tr>\n",
       "    <tr>\n",
       "      <th>4</th>\n",
       "      <td>Total U.S.</td>\n",
       "      <td>2018</td>\n",
       "      <td>326838199</td>\n",
       "      <td>42211000</td>\n",
       "      <td>56144</td>\n",
       "      <td>0.129150</td>\n",
       "      <td>0.000172</td>\n",
       "      <td>0</td>\n",
       "      <td>0</td>\n",
       "      <td>0</td>\n",
       "      <td>0</td>\n",
       "      <td>0</td>\n",
       "      <td>0</td>\n",
       "    </tr>\n",
       "  </tbody>\n",
       "</table>\n",
       "</div>"
      ],
      "text/plain": [
       "        State  Year  Population  Number of Cannabis Users  \\\n",
       "0  Total U.S.  2014   318386329                  34038000   \n",
       "1  Total U.S.  2015   320738994                  35584000   \n",
       "2  Total U.S.  2016   323071755                  36806000   \n",
       "3  Total U.S.  2017   325122128                  39252000   \n",
       "4  Total U.S.  2018   326838199                  42211000   \n",
       "\n",
       "   Number of Opioid Deaths  Per Capita Cannabis Use  Per Capita Opioid Deaths  \\\n",
       "0                    47055                 0.106908                  0.000148   \n",
       "1                    52404                 0.110944                  0.000163   \n",
       "2                    63450                 0.113925                  0.000196   \n",
       "3                    70237                 0.120730                  0.000216   \n",
       "4                    56144                 0.129150                  0.000172   \n",
       "\n",
       "   Recreational  Rec Year Legalized  Medical  Med Year Legalized  \\\n",
       "0             0                   0        0                   0   \n",
       "1             0                   0        0                   0   \n",
       "2             0                   0        0                   0   \n",
       "3             0                   0        0                   0   \n",
       "4             0                   0        0                   0   \n",
       "\n",
       "   Years legal (rec)  Years legal (med)  \n",
       "0                  0                  0  \n",
       "1                  0                  0  \n",
       "2                  0                  0  \n",
       "3                  0                  0  \n",
       "4                  0                  0  "
      ]
     },
     "execution_count": 164,
     "metadata": {},
     "output_type": "execute_result"
    }
   ],
   "source": [
    "data.head()"
   ]
  },
  {
   "cell_type": "code",
   "execution_count": null,
   "id": "010f3aa1",
   "metadata": {},
   "outputs": [],
   "source": []
  },
  {
   "cell_type": "code",
   "execution_count": 165,
   "id": "e6db3fa2",
   "metadata": {},
   "outputs": [
    {
     "data": {
      "text/html": [
       "<div>\n",
       "<style scoped>\n",
       "    .dataframe tbody tr th:only-of-type {\n",
       "        vertical-align: middle;\n",
       "    }\n",
       "\n",
       "    .dataframe tbody tr th {\n",
       "        vertical-align: top;\n",
       "    }\n",
       "\n",
       "    .dataframe thead th {\n",
       "        text-align: right;\n",
       "    }\n",
       "</style>\n",
       "<table border=\"1\" class=\"dataframe\">\n",
       "  <thead>\n",
       "    <tr style=\"text-align: right;\">\n",
       "      <th></th>\n",
       "      <th>State</th>\n",
       "      <th>Population</th>\n",
       "      <th>Number of Cannabis Users</th>\n",
       "      <th>Number of Opioid Deaths</th>\n",
       "      <th>Per Capita Cannabis Use</th>\n",
       "      <th>Per Capita Opioid Deaths</th>\n",
       "      <th>Recreational</th>\n",
       "      <th>Rec Year Legalized</th>\n",
       "      <th>Medical</th>\n",
       "      <th>Med Year Legalized</th>\n",
       "      <th>Years legal (rec)</th>\n",
       "      <th>Years legal (med)</th>\n",
       "    </tr>\n",
       "    <tr>\n",
       "      <th>Year</th>\n",
       "      <th></th>\n",
       "      <th></th>\n",
       "      <th></th>\n",
       "      <th></th>\n",
       "      <th></th>\n",
       "      <th></th>\n",
       "      <th></th>\n",
       "      <th></th>\n",
       "      <th></th>\n",
       "      <th></th>\n",
       "      <th></th>\n",
       "      <th></th>\n",
       "    </tr>\n",
       "  </thead>\n",
       "  <tbody>\n",
       "    <tr>\n",
       "      <th>2014-01-01T00:00:00</th>\n",
       "      <td>34</td>\n",
       "      <td>738736</td>\n",
       "      <td>62000</td>\n",
       "      <td>43</td>\n",
       "      <td>0.083927</td>\n",
       "      <td>0.000058</td>\n",
       "      <td>0</td>\n",
       "      <td>0</td>\n",
       "      <td>1</td>\n",
       "      <td>2016</td>\n",
       "      <td>0</td>\n",
       "      <td>6</td>\n",
       "    </tr>\n",
       "    <tr>\n",
       "      <th>2014-01-01T00:00:00</th>\n",
       "      <td>25</td>\n",
       "      <td>6059130</td>\n",
       "      <td>639000</td>\n",
       "      <td>1067</td>\n",
       "      <td>0.105461</td>\n",
       "      <td>0.000176</td>\n",
       "      <td>0</td>\n",
       "      <td>0</td>\n",
       "      <td>1</td>\n",
       "      <td>2018</td>\n",
       "      <td>0</td>\n",
       "      <td>4</td>\n",
       "    </tr>\n",
       "    <tr>\n",
       "      <th>2014-01-01T00:00:00</th>\n",
       "      <td>16</td>\n",
       "      <td>2901861</td>\n",
       "      <td>259000</td>\n",
       "      <td>332</td>\n",
       "      <td>0.089253</td>\n",
       "      <td>0.000114</td>\n",
       "      <td>0</td>\n",
       "      <td>0</td>\n",
       "      <td>0</td>\n",
       "      <td>0</td>\n",
       "      <td>0</td>\n",
       "      <td>0</td>\n",
       "    </tr>\n",
       "    <tr>\n",
       "      <th>2014-01-01T00:00:00</th>\n",
       "      <td>18</td>\n",
       "      <td>4645938</td>\n",
       "      <td>425000</td>\n",
       "      <td>777</td>\n",
       "      <td>0.091478</td>\n",
       "      <td>0.000167</td>\n",
       "      <td>0</td>\n",
       "      <td>0</td>\n",
       "      <td>1</td>\n",
       "      <td>2015</td>\n",
       "      <td>0</td>\n",
       "      <td>7</td>\n",
       "    </tr>\n",
       "    <tr>\n",
       "      <th>2014-01-01T00:00:00</th>\n",
       "      <td>37</td>\n",
       "      <td>3965447</td>\n",
       "      <td>649000</td>\n",
       "      <td>522</td>\n",
       "      <td>0.163664</td>\n",
       "      <td>0.000132</td>\n",
       "      <td>1</td>\n",
       "      <td>2014</td>\n",
       "      <td>1</td>\n",
       "      <td>1998</td>\n",
       "      <td>8</td>\n",
       "      <td>24</td>\n",
       "    </tr>\n",
       "  </tbody>\n",
       "</table>\n",
       "</div>"
      ],
      "text/plain": [
       "                     State  Population  Number of Cannabis Users  \\\n",
       "Year                                                               \n",
       "2014-01-01T00:00:00     34      738736                     62000   \n",
       "2014-01-01T00:00:00     25     6059130                    639000   \n",
       "2014-01-01T00:00:00     16     2901861                    259000   \n",
       "2014-01-01T00:00:00     18     4645938                    425000   \n",
       "2014-01-01T00:00:00     37     3965447                    649000   \n",
       "\n",
       "                     Number of Opioid Deaths  Per Capita Cannabis Use  \\\n",
       "Year                                                                    \n",
       "2014-01-01T00:00:00                       43                 0.083927   \n",
       "2014-01-01T00:00:00                     1067                 0.105461   \n",
       "2014-01-01T00:00:00                      332                 0.089253   \n",
       "2014-01-01T00:00:00                      777                 0.091478   \n",
       "2014-01-01T00:00:00                      522                 0.163664   \n",
       "\n",
       "                     Per Capita Opioid Deaths  Recreational  \\\n",
       "Year                                                          \n",
       "2014-01-01T00:00:00                  0.000058             0   \n",
       "2014-01-01T00:00:00                  0.000176             0   \n",
       "2014-01-01T00:00:00                  0.000114             0   \n",
       "2014-01-01T00:00:00                  0.000167             0   \n",
       "2014-01-01T00:00:00                  0.000132             1   \n",
       "\n",
       "                     Rec Year Legalized  Medical  Med Year Legalized  \\\n",
       "Year                                                                   \n",
       "2014-01-01T00:00:00                   0        1                2016   \n",
       "2014-01-01T00:00:00                   0        1                2018   \n",
       "2014-01-01T00:00:00                   0        0                   0   \n",
       "2014-01-01T00:00:00                   0        1                2015   \n",
       "2014-01-01T00:00:00                2014        1                1998   \n",
       "\n",
       "                     Years legal (rec)  Years legal (med)  \n",
       "Year                                                       \n",
       "2014-01-01T00:00:00                  0                  6  \n",
       "2014-01-01T00:00:00                  0                  4  \n",
       "2014-01-01T00:00:00                  0                  0  \n",
       "2014-01-01T00:00:00                  0                  7  \n",
       "2014-01-01T00:00:00                  8                 24  "
      ]
     },
     "execution_count": 165,
     "metadata": {},
     "output_type": "execute_result"
    }
   ],
   "source": [
    "# Data preparation\n",
    "# ==============================================================================\n",
    "\n",
    "# Dropping first 7 rows being country summation.\n",
    "data = data.iloc[7:]\n",
    "data = data.reset_index()\n",
    "data.drop(columns = 'index', inplace = True)\n",
    "\n",
    "# Label Encoding\n",
    "le = LabelEncoder()\n",
    "data.State = le.fit_transform(data.State)\n",
    "\n",
    "# Specifying datetime column for index\n",
    "#data['Year'] = pd.to_datetime(data['Year'], format='%Y')\n",
    "data['Year'] = data['Year'].astype(str)\n",
    "data['Year'] = data['Year'].apply(lambda x: datetime.strptime(x, \"%Y\").isoformat())\n",
    "data = data.set_index('Year')\n",
    "#data = data.asfreq('Y')\n",
    "data = data.sort_index()\n",
    "data.head()"
   ]
  },
  {
   "cell_type": "code",
   "execution_count": null,
   "id": "b56c66b6",
   "metadata": {},
   "outputs": [],
   "source": [
    "data = data.asfreq(pd.DateOffset(years=1))"
   ]
  },
  {
   "cell_type": "code",
   "execution_count": 76,
   "id": "d3249faa",
   "metadata": {},
   "outputs": [
    {
     "data": {
      "text/plain": [
       "'2022-10-09T00:00:00'"
      ]
     },
     "execution_count": 76,
     "metadata": {},
     "output_type": "execute_result"
    }
   ],
   "source": [
    "var1 = \"2022-10-09\"\n",
    "from datetime import datetime, date\n",
    "# from time import strftime, strptime\n",
    "\n",
    "datstr = datetime.strptime(var1, \"%Y-%m-%d\").isoformat()\n",
    "datstr"
   ]
  },
  {
   "cell_type": "code",
   "execution_count": 16,
   "id": "392f2737",
   "metadata": {},
   "outputs": [
    {
     "data": {
      "text/plain": [
       "'2022-10-09T00:00:00'"
      ]
     },
     "execution_count": 16,
     "metadata": {},
     "output_type": "execute_result"
    }
   ],
   "source": [
    "datetime.strptime(var1, \"%Y-%m-%d\").isoformat()"
   ]
  },
  {
   "cell_type": "code",
   "execution_count": 18,
   "id": "5099160b",
   "metadata": {
    "collapsed": true
   },
   "outputs": [
    {
     "ename": "ValueError",
     "evalue": "unconverted data remains:  00:00:00.000002014",
     "output_type": "error",
     "traceback": [
      "\u001b[1;31m---------------------------------------------------------------------------\u001b[0m",
      "\u001b[1;31mValueError\u001b[0m                                Traceback (most recent call last)",
      "\u001b[1;32m~\\AppData\\Local\\Temp\\ipykernel_15328\\4112261073.py\u001b[0m in \u001b[0;36m<module>\u001b[1;34m\u001b[0m\n\u001b[0;32m      1\u001b[0m \u001b[0mdata\u001b[0m\u001b[1;33m[\u001b[0m\u001b[1;34m'Year'\u001b[0m\u001b[1;33m]\u001b[0m \u001b[1;33m=\u001b[0m \u001b[0mpd\u001b[0m\u001b[1;33m.\u001b[0m\u001b[0mto_datetime\u001b[0m\u001b[1;33m(\u001b[0m\u001b[0mdata\u001b[0m\u001b[1;33m[\u001b[0m\u001b[1;34m'Year'\u001b[0m\u001b[1;33m]\u001b[0m\u001b[1;33m,\u001b[0m \u001b[0mformat\u001b[0m\u001b[1;33m=\u001b[0m\u001b[1;34m'%Y-%m-%d'\u001b[0m\u001b[1;33m)\u001b[0m\u001b[1;33m\u001b[0m\u001b[1;33m\u001b[0m\u001b[0m\n\u001b[0;32m      2\u001b[0m \u001b[0mdata\u001b[0m\u001b[1;33m[\u001b[0m\u001b[1;34m'Year'\u001b[0m\u001b[1;33m]\u001b[0m \u001b[1;33m=\u001b[0m \u001b[0mdata\u001b[0m\u001b[1;33m[\u001b[0m\u001b[1;34m'Year'\u001b[0m\u001b[1;33m]\u001b[0m\u001b[1;33m.\u001b[0m\u001b[0mastype\u001b[0m\u001b[1;33m(\u001b[0m\u001b[0mstr\u001b[0m\u001b[1;33m)\u001b[0m\u001b[1;33m\u001b[0m\u001b[1;33m\u001b[0m\u001b[0m\n\u001b[1;32m----> 3\u001b[1;33m \u001b[0mdata\u001b[0m\u001b[1;33m[\u001b[0m\u001b[1;34m'Year'\u001b[0m\u001b[1;33m]\u001b[0m \u001b[1;33m=\u001b[0m \u001b[0mdata\u001b[0m\u001b[1;33m[\u001b[0m\u001b[1;34m'Year'\u001b[0m\u001b[1;33m]\u001b[0m\u001b[1;33m.\u001b[0m\u001b[0mapply\u001b[0m\u001b[1;33m(\u001b[0m\u001b[1;32mlambda\u001b[0m \u001b[0mx\u001b[0m\u001b[1;33m:\u001b[0m \u001b[0mdatetime\u001b[0m\u001b[1;33m.\u001b[0m\u001b[0mstrptime\u001b[0m\u001b[1;33m(\u001b[0m\u001b[0mx\u001b[0m\u001b[1;33m,\u001b[0m \u001b[1;34m\"%Y-%m-%d\"\u001b[0m\u001b[1;33m)\u001b[0m\u001b[1;33m.\u001b[0m\u001b[0misoformat\u001b[0m\u001b[1;33m(\u001b[0m\u001b[1;33m)\u001b[0m\u001b[1;33m)\u001b[0m\u001b[1;33m\u001b[0m\u001b[1;33m\u001b[0m\u001b[0m\n\u001b[0m\u001b[0;32m      4\u001b[0m \u001b[0mdata\u001b[0m\u001b[1;33m[\u001b[0m\u001b[1;34m'Year'\u001b[0m\u001b[1;33m]\u001b[0m\u001b[1;33m\u001b[0m\u001b[1;33m\u001b[0m\u001b[0m\n",
      "\u001b[1;32m~\\AppData\\Local\\Programs\\Python\\Python310\\lib\\site-packages\\pandas\\core\\series.py\u001b[0m in \u001b[0;36mapply\u001b[1;34m(self, func, convert_dtype, args, **kwargs)\u001b[0m\n\u001b[0;32m   4428\u001b[0m         \u001b[0mdtype\u001b[0m\u001b[1;33m:\u001b[0m \u001b[0mfloat64\u001b[0m\u001b[1;33m\u001b[0m\u001b[1;33m\u001b[0m\u001b[0m\n\u001b[0;32m   4429\u001b[0m         \"\"\"\n\u001b[1;32m-> 4430\u001b[1;33m         \u001b[1;32mreturn\u001b[0m \u001b[0mSeriesApply\u001b[0m\u001b[1;33m(\u001b[0m\u001b[0mself\u001b[0m\u001b[1;33m,\u001b[0m \u001b[0mfunc\u001b[0m\u001b[1;33m,\u001b[0m \u001b[0mconvert_dtype\u001b[0m\u001b[1;33m,\u001b[0m \u001b[0margs\u001b[0m\u001b[1;33m,\u001b[0m \u001b[0mkwargs\u001b[0m\u001b[1;33m)\u001b[0m\u001b[1;33m.\u001b[0m\u001b[0mapply\u001b[0m\u001b[1;33m(\u001b[0m\u001b[1;33m)\u001b[0m\u001b[1;33m\u001b[0m\u001b[1;33m\u001b[0m\u001b[0m\n\u001b[0m\u001b[0;32m   4431\u001b[0m \u001b[1;33m\u001b[0m\u001b[0m\n\u001b[0;32m   4432\u001b[0m     def _reduce(\n",
      "\u001b[1;32m~\\AppData\\Local\\Programs\\Python\\Python310\\lib\\site-packages\\pandas\\core\\apply.py\u001b[0m in \u001b[0;36mapply\u001b[1;34m(self)\u001b[0m\n\u001b[0;32m   1080\u001b[0m             \u001b[1;32mreturn\u001b[0m \u001b[0mself\u001b[0m\u001b[1;33m.\u001b[0m\u001b[0mapply_str\u001b[0m\u001b[1;33m(\u001b[0m\u001b[1;33m)\u001b[0m\u001b[1;33m\u001b[0m\u001b[1;33m\u001b[0m\u001b[0m\n\u001b[0;32m   1081\u001b[0m \u001b[1;33m\u001b[0m\u001b[0m\n\u001b[1;32m-> 1082\u001b[1;33m         \u001b[1;32mreturn\u001b[0m \u001b[0mself\u001b[0m\u001b[1;33m.\u001b[0m\u001b[0mapply_standard\u001b[0m\u001b[1;33m(\u001b[0m\u001b[1;33m)\u001b[0m\u001b[1;33m\u001b[0m\u001b[1;33m\u001b[0m\u001b[0m\n\u001b[0m\u001b[0;32m   1083\u001b[0m \u001b[1;33m\u001b[0m\u001b[0m\n\u001b[0;32m   1084\u001b[0m     \u001b[1;32mdef\u001b[0m \u001b[0magg\u001b[0m\u001b[1;33m(\u001b[0m\u001b[0mself\u001b[0m\u001b[1;33m)\u001b[0m\u001b[1;33m:\u001b[0m\u001b[1;33m\u001b[0m\u001b[1;33m\u001b[0m\u001b[0m\n",
      "\u001b[1;32m~\\AppData\\Local\\Programs\\Python\\Python310\\lib\\site-packages\\pandas\\core\\apply.py\u001b[0m in \u001b[0;36mapply_standard\u001b[1;34m(self)\u001b[0m\n\u001b[0;32m   1135\u001b[0m                 \u001b[1;31m# List[Union[Callable[..., Any], str]]]]]\"; expected\u001b[0m\u001b[1;33m\u001b[0m\u001b[1;33m\u001b[0m\u001b[0m\n\u001b[0;32m   1136\u001b[0m                 \u001b[1;31m# \"Callable[[Any], Any]\"\u001b[0m\u001b[1;33m\u001b[0m\u001b[1;33m\u001b[0m\u001b[0m\n\u001b[1;32m-> 1137\u001b[1;33m                 mapped = lib.map_infer(\n\u001b[0m\u001b[0;32m   1138\u001b[0m                     \u001b[0mvalues\u001b[0m\u001b[1;33m,\u001b[0m\u001b[1;33m\u001b[0m\u001b[1;33m\u001b[0m\u001b[0m\n\u001b[0;32m   1139\u001b[0m                     \u001b[0mf\u001b[0m\u001b[1;33m,\u001b[0m  \u001b[1;31m# type: ignore[arg-type]\u001b[0m\u001b[1;33m\u001b[0m\u001b[1;33m\u001b[0m\u001b[0m\n",
      "\u001b[1;32m~\\AppData\\Local\\Programs\\Python\\Python310\\lib\\site-packages\\pandas\\_libs\\lib.pyx\u001b[0m in \u001b[0;36mpandas._libs.lib.map_infer\u001b[1;34m()\u001b[0m\n",
      "\u001b[1;32m~\\AppData\\Local\\Temp\\ipykernel_15328\\4112261073.py\u001b[0m in \u001b[0;36m<lambda>\u001b[1;34m(x)\u001b[0m\n\u001b[0;32m      1\u001b[0m \u001b[0mdata\u001b[0m\u001b[1;33m[\u001b[0m\u001b[1;34m'Year'\u001b[0m\u001b[1;33m]\u001b[0m \u001b[1;33m=\u001b[0m \u001b[0mpd\u001b[0m\u001b[1;33m.\u001b[0m\u001b[0mto_datetime\u001b[0m\u001b[1;33m(\u001b[0m\u001b[0mdata\u001b[0m\u001b[1;33m[\u001b[0m\u001b[1;34m'Year'\u001b[0m\u001b[1;33m]\u001b[0m\u001b[1;33m,\u001b[0m \u001b[0mformat\u001b[0m\u001b[1;33m=\u001b[0m\u001b[1;34m'%Y-%m-%d'\u001b[0m\u001b[1;33m)\u001b[0m\u001b[1;33m\u001b[0m\u001b[1;33m\u001b[0m\u001b[0m\n\u001b[0;32m      2\u001b[0m \u001b[0mdata\u001b[0m\u001b[1;33m[\u001b[0m\u001b[1;34m'Year'\u001b[0m\u001b[1;33m]\u001b[0m \u001b[1;33m=\u001b[0m \u001b[0mdata\u001b[0m\u001b[1;33m[\u001b[0m\u001b[1;34m'Year'\u001b[0m\u001b[1;33m]\u001b[0m\u001b[1;33m.\u001b[0m\u001b[0mastype\u001b[0m\u001b[1;33m(\u001b[0m\u001b[0mstr\u001b[0m\u001b[1;33m)\u001b[0m\u001b[1;33m\u001b[0m\u001b[1;33m\u001b[0m\u001b[0m\n\u001b[1;32m----> 3\u001b[1;33m \u001b[0mdata\u001b[0m\u001b[1;33m[\u001b[0m\u001b[1;34m'Year'\u001b[0m\u001b[1;33m]\u001b[0m \u001b[1;33m=\u001b[0m \u001b[0mdata\u001b[0m\u001b[1;33m[\u001b[0m\u001b[1;34m'Year'\u001b[0m\u001b[1;33m]\u001b[0m\u001b[1;33m.\u001b[0m\u001b[0mapply\u001b[0m\u001b[1;33m(\u001b[0m\u001b[1;32mlambda\u001b[0m \u001b[0mx\u001b[0m\u001b[1;33m:\u001b[0m \u001b[0mdatetime\u001b[0m\u001b[1;33m.\u001b[0m\u001b[0mstrptime\u001b[0m\u001b[1;33m(\u001b[0m\u001b[0mx\u001b[0m\u001b[1;33m,\u001b[0m \u001b[1;34m\"%Y-%m-%d\"\u001b[0m\u001b[1;33m)\u001b[0m\u001b[1;33m.\u001b[0m\u001b[0misoformat\u001b[0m\u001b[1;33m(\u001b[0m\u001b[1;33m)\u001b[0m\u001b[1;33m)\u001b[0m\u001b[1;33m\u001b[0m\u001b[1;33m\u001b[0m\u001b[0m\n\u001b[0m\u001b[0;32m      4\u001b[0m \u001b[0mdata\u001b[0m\u001b[1;33m[\u001b[0m\u001b[1;34m'Year'\u001b[0m\u001b[1;33m]\u001b[0m\u001b[1;33m\u001b[0m\u001b[1;33m\u001b[0m\u001b[0m\n",
      "\u001b[1;32m~\\AppData\\Local\\Programs\\Python\\Python310\\lib\\_strptime.py\u001b[0m in \u001b[0;36m_strptime_datetime\u001b[1;34m(cls, data_string, format)\u001b[0m\n\u001b[0;32m    566\u001b[0m     \"\"\"Return a class cls instance based on the input string and the\n\u001b[0;32m    567\u001b[0m     format string.\"\"\"\n\u001b[1;32m--> 568\u001b[1;33m     \u001b[0mtt\u001b[0m\u001b[1;33m,\u001b[0m \u001b[0mfraction\u001b[0m\u001b[1;33m,\u001b[0m \u001b[0mgmtoff_fraction\u001b[0m \u001b[1;33m=\u001b[0m \u001b[0m_strptime\u001b[0m\u001b[1;33m(\u001b[0m\u001b[0mdata_string\u001b[0m\u001b[1;33m,\u001b[0m \u001b[0mformat\u001b[0m\u001b[1;33m)\u001b[0m\u001b[1;33m\u001b[0m\u001b[1;33m\u001b[0m\u001b[0m\n\u001b[0m\u001b[0;32m    569\u001b[0m     \u001b[0mtzname\u001b[0m\u001b[1;33m,\u001b[0m \u001b[0mgmtoff\u001b[0m \u001b[1;33m=\u001b[0m \u001b[0mtt\u001b[0m\u001b[1;33m[\u001b[0m\u001b[1;33m-\u001b[0m\u001b[1;36m2\u001b[0m\u001b[1;33m:\u001b[0m\u001b[1;33m]\u001b[0m\u001b[1;33m\u001b[0m\u001b[1;33m\u001b[0m\u001b[0m\n\u001b[0;32m    570\u001b[0m     \u001b[0margs\u001b[0m \u001b[1;33m=\u001b[0m \u001b[0mtt\u001b[0m\u001b[1;33m[\u001b[0m\u001b[1;33m:\u001b[0m\u001b[1;36m6\u001b[0m\u001b[1;33m]\u001b[0m \u001b[1;33m+\u001b[0m \u001b[1;33m(\u001b[0m\u001b[0mfraction\u001b[0m\u001b[1;33m,\u001b[0m\u001b[1;33m)\u001b[0m\u001b[1;33m\u001b[0m\u001b[1;33m\u001b[0m\u001b[0m\n",
      "\u001b[1;32m~\\AppData\\Local\\Programs\\Python\\Python310\\lib\\_strptime.py\u001b[0m in \u001b[0;36m_strptime\u001b[1;34m(data_string, format)\u001b[0m\n\u001b[0;32m    350\u001b[0m                          (data_string, format))\n\u001b[0;32m    351\u001b[0m     \u001b[1;32mif\u001b[0m \u001b[0mlen\u001b[0m\u001b[1;33m(\u001b[0m\u001b[0mdata_string\u001b[0m\u001b[1;33m)\u001b[0m \u001b[1;33m!=\u001b[0m \u001b[0mfound\u001b[0m\u001b[1;33m.\u001b[0m\u001b[0mend\u001b[0m\u001b[1;33m(\u001b[0m\u001b[1;33m)\u001b[0m\u001b[1;33m:\u001b[0m\u001b[1;33m\u001b[0m\u001b[1;33m\u001b[0m\u001b[0m\n\u001b[1;32m--> 352\u001b[1;33m         raise ValueError(\"unconverted data remains: %s\" %\n\u001b[0m\u001b[0;32m    353\u001b[0m                           data_string[found.end():])\n\u001b[0;32m    354\u001b[0m \u001b[1;33m\u001b[0m\u001b[0m\n",
      "\u001b[1;31mValueError\u001b[0m: unconverted data remains:  00:00:00.000002014"
     ]
    }
   ],
   "source": [
    "data['Year'] = pd.to_datetime(data['Year'], format='%Y-%m-%d')\n",
    "data['Year'] = data['Year'].astype(str)\n",
    "data['Year'] = data['Year'].apply(lambda x: datetime.strptime(x, \"%Y-%m-%d\").isoformat())\n",
    "data['Year']"
   ]
  },
  {
   "cell_type": "code",
   "execution_count": 140,
   "id": "c9a43a74",
   "metadata": {},
   "outputs": [
    {
     "data": {
      "text/plain": [
       "State                         int32\n",
       "Population                    int64\n",
       "Number of Cannabis Users      int64\n",
       "Number of Opioid Deaths       int64\n",
       "Per Capita Cannabis Use     float64\n",
       "Per Capita Opioid Deaths    float64\n",
       "Recreational                  int64\n",
       "Rec Year Legalized            int64\n",
       "Medical                       int64\n",
       "Med Year Legalized            int64\n",
       "Years legal (rec)             int64\n",
       "Years legal (med)             int64\n",
       "dtype: object"
      ]
     },
     "execution_count": 140,
     "metadata": {},
     "output_type": "execute_result"
    }
   ],
   "source": [
    "data.dtypes"
   ]
  },
  {
   "cell_type": "code",
   "execution_count": 148,
   "id": "1288a07f",
   "metadata": {},
   "outputs": [
    {
     "name": "stdout",
     "output_type": "stream",
     "text": [
      "Number of rows with missing values: 0.0\n"
     ]
    }
   ],
   "source": [
    "print(f'Number of rows with missing values: {data.isnull().any(axis=1).mean()}')"
   ]
  },
  {
   "cell_type": "code",
   "execution_count": 166,
   "id": "5f86e966",
   "metadata": {},
   "outputs": [],
   "source": [
    "# Split data into train-test\n",
    "steps = 51\n",
    "data_train = data[:-steps]\n",
    "data_test  = data[-steps:]"
   ]
  },
  {
   "cell_type": "code",
   "execution_count": 167,
   "id": "c330e0eb",
   "metadata": {},
   "outputs": [
    {
     "name": "stdout",
     "output_type": "stream",
     "text": [
      "Train dates : 2014-01-01T00:00:00 --- 2019-01-01T00:00:00  (n=296)\n",
      "Test dates  : 2020-01-01T00:00:00 --- 2020-01-01T00:00:00  (n=51)\n"
     ]
    }
   ],
   "source": [
    "print(f\"Train dates : {data_train.index.min()} --- {data_train.index.max()}  (n={len(data_train)})\")\n",
    "print(f\"Test dates  : {data_test.index.min()} --- {data_test.index.max()}  (n={len(data_test)})\")"
   ]
  },
  {
   "cell_type": "code",
   "execution_count": 168,
   "id": "58ec1bb7",
   "metadata": {},
   "outputs": [
    {
     "data": {
      "text/html": [
       "<div>\n",
       "<style scoped>\n",
       "    .dataframe tbody tr th:only-of-type {\n",
       "        vertical-align: middle;\n",
       "    }\n",
       "\n",
       "    .dataframe tbody tr th {\n",
       "        vertical-align: top;\n",
       "    }\n",
       "\n",
       "    .dataframe thead th {\n",
       "        text-align: right;\n",
       "    }\n",
       "</style>\n",
       "<table border=\"1\" class=\"dataframe\">\n",
       "  <thead>\n",
       "    <tr style=\"text-align: right;\">\n",
       "      <th></th>\n",
       "      <th>State</th>\n",
       "      <th>Population</th>\n",
       "      <th>Number of Cannabis Users</th>\n",
       "      <th>Number of Opioid Deaths</th>\n",
       "      <th>Per Capita Cannabis Use</th>\n",
       "      <th>Per Capita Opioid Deaths</th>\n",
       "      <th>Recreational</th>\n",
       "      <th>Rec Year Legalized</th>\n",
       "      <th>Medical</th>\n",
       "      <th>Med Year Legalized</th>\n",
       "      <th>Years legal (rec)</th>\n",
       "      <th>Years legal (med)</th>\n",
       "    </tr>\n",
       "    <tr>\n",
       "      <th>Year</th>\n",
       "      <th></th>\n",
       "      <th></th>\n",
       "      <th></th>\n",
       "      <th></th>\n",
       "      <th></th>\n",
       "      <th></th>\n",
       "      <th></th>\n",
       "      <th></th>\n",
       "      <th></th>\n",
       "      <th></th>\n",
       "      <th></th>\n",
       "      <th></th>\n",
       "    </tr>\n",
       "  </thead>\n",
       "  <tbody>\n",
       "    <tr>\n",
       "      <th>2014-01-01T00:00:00</th>\n",
       "      <td>34</td>\n",
       "      <td>738736</td>\n",
       "      <td>62000</td>\n",
       "      <td>43</td>\n",
       "      <td>0.083927</td>\n",
       "      <td>0.000058</td>\n",
       "      <td>0</td>\n",
       "      <td>0</td>\n",
       "      <td>1</td>\n",
       "      <td>2016</td>\n",
       "      <td>0</td>\n",
       "      <td>6</td>\n",
       "    </tr>\n",
       "    <tr>\n",
       "      <th>2014-01-01T00:00:00</th>\n",
       "      <td>25</td>\n",
       "      <td>6059130</td>\n",
       "      <td>639000</td>\n",
       "      <td>1067</td>\n",
       "      <td>0.105461</td>\n",
       "      <td>0.000176</td>\n",
       "      <td>0</td>\n",
       "      <td>0</td>\n",
       "      <td>1</td>\n",
       "      <td>2018</td>\n",
       "      <td>0</td>\n",
       "      <td>4</td>\n",
       "    </tr>\n",
       "    <tr>\n",
       "      <th>2014-01-01T00:00:00</th>\n",
       "      <td>16</td>\n",
       "      <td>2901861</td>\n",
       "      <td>259000</td>\n",
       "      <td>332</td>\n",
       "      <td>0.089253</td>\n",
       "      <td>0.000114</td>\n",
       "      <td>0</td>\n",
       "      <td>0</td>\n",
       "      <td>0</td>\n",
       "      <td>0</td>\n",
       "      <td>0</td>\n",
       "      <td>0</td>\n",
       "    </tr>\n",
       "    <tr>\n",
       "      <th>2014-01-01T00:00:00</th>\n",
       "      <td>18</td>\n",
       "      <td>4645938</td>\n",
       "      <td>425000</td>\n",
       "      <td>777</td>\n",
       "      <td>0.091478</td>\n",
       "      <td>0.000167</td>\n",
       "      <td>0</td>\n",
       "      <td>0</td>\n",
       "      <td>1</td>\n",
       "      <td>2015</td>\n",
       "      <td>0</td>\n",
       "      <td>7</td>\n",
       "    </tr>\n",
       "    <tr>\n",
       "      <th>2014-01-01T00:00:00</th>\n",
       "      <td>37</td>\n",
       "      <td>3965447</td>\n",
       "      <td>649000</td>\n",
       "      <td>522</td>\n",
       "      <td>0.163664</td>\n",
       "      <td>0.000132</td>\n",
       "      <td>1</td>\n",
       "      <td>2014</td>\n",
       "      <td>1</td>\n",
       "      <td>1998</td>\n",
       "      <td>8</td>\n",
       "      <td>24</td>\n",
       "    </tr>\n",
       "  </tbody>\n",
       "</table>\n",
       "</div>"
      ],
      "text/plain": [
       "                     State  Population  Number of Cannabis Users  \\\n",
       "Year                                                               \n",
       "2014-01-01T00:00:00     34      738736                     62000   \n",
       "2014-01-01T00:00:00     25     6059130                    639000   \n",
       "2014-01-01T00:00:00     16     2901861                    259000   \n",
       "2014-01-01T00:00:00     18     4645938                    425000   \n",
       "2014-01-01T00:00:00     37     3965447                    649000   \n",
       "\n",
       "                     Number of Opioid Deaths  Per Capita Cannabis Use  \\\n",
       "Year                                                                    \n",
       "2014-01-01T00:00:00                       43                 0.083927   \n",
       "2014-01-01T00:00:00                     1067                 0.105461   \n",
       "2014-01-01T00:00:00                      332                 0.089253   \n",
       "2014-01-01T00:00:00                      777                 0.091478   \n",
       "2014-01-01T00:00:00                      522                 0.163664   \n",
       "\n",
       "                     Per Capita Opioid Deaths  Recreational  \\\n",
       "Year                                                          \n",
       "2014-01-01T00:00:00                  0.000058             0   \n",
       "2014-01-01T00:00:00                  0.000176             0   \n",
       "2014-01-01T00:00:00                  0.000114             0   \n",
       "2014-01-01T00:00:00                  0.000167             0   \n",
       "2014-01-01T00:00:00                  0.000132             1   \n",
       "\n",
       "                     Rec Year Legalized  Medical  Med Year Legalized  \\\n",
       "Year                                                                   \n",
       "2014-01-01T00:00:00                   0        1                2016   \n",
       "2014-01-01T00:00:00                   0        1                2018   \n",
       "2014-01-01T00:00:00                   0        0                   0   \n",
       "2014-01-01T00:00:00                   0        1                2015   \n",
       "2014-01-01T00:00:00                2014        1                1998   \n",
       "\n",
       "                     Years legal (rec)  Years legal (med)  \n",
       "Year                                                       \n",
       "2014-01-01T00:00:00                  0                  6  \n",
       "2014-01-01T00:00:00                  0                  4  \n",
       "2014-01-01T00:00:00                  0                  0  \n",
       "2014-01-01T00:00:00                  0                  7  \n",
       "2014-01-01T00:00:00                  8                 24  "
      ]
     },
     "execution_count": 168,
     "metadata": {},
     "output_type": "execute_result"
    }
   ],
   "source": [
    "data_train.head()"
   ]
  },
  {
   "cell_type": "code",
   "execution_count": 169,
   "id": "3effd875",
   "metadata": {},
   "outputs": [
    {
     "data": {
      "text/plain": [
       "51"
      ]
     },
     "execution_count": 169,
     "metadata": {},
     "output_type": "execute_result"
    }
   ],
   "source": [
    "Stateslist = data_train['State'].unique()\n",
    "len(Stateslist)"
   ]
  },
  {
   "cell_type": "code",
   "execution_count": 170,
   "id": "5a7ec5d2",
   "metadata": {},
   "outputs": [
    {
     "data": {
      "image/png": "[encoded data removed]",
      "text/plain": [
       "<Figure size 648x288 with 1 Axes>"
      ]
     },
     "metadata": {
      "needs_background": "light"
     },
     "output_type": "display_data"
    }
   ],
   "source": [
    "fig, ax=plt.subplots(figsize=(9, 4))\n",
    "data_train['Number of Opioid Deaths'].plot(ax=ax, label='train')\n",
    "data_test['Number of Opioid Deaths'].plot(ax=ax, label='test')\n",
    "ax.legend();"
   ]
  },
  {
   "cell_type": "code",
   "execution_count": 173,
   "id": "9a185cad",
   "metadata": {},
   "outputs": [
    {
     "name": "stderr",
     "output_type": "stream",
     "text": [
      "C:\\Users\\John\\AppData\\Roaming\\Python\\Python310\\site-packages\\skforecast\\utils\\utils.py:370: UserWarning: `y` has no DatetimeIndex nor RangeIndex index. Index is overwritten with a RangeIndex.\n",
      "  warnings.warn(\n",
      "C:\\Users\\John\\AppData\\Roaming\\Python\\Python310\\site-packages\\skforecast\\utils\\utils.py:370: UserWarning: `y` has no DatetimeIndex nor RangeIndex index. Index is overwritten with a RangeIndex.\n",
      "  warnings.warn(\n"
     ]
    },
    {
     "data": {
      "text/plain": [
       "================= \n",
       "ForecasterAutoreg \n",
       "================= \n",
       "Regressor: RandomForestRegressor(random_state=123) \n",
       "Lags: [1 2 3 4 5] \n",
       "Transformer for y: None \n",
       "Transformer for exog: None \n",
       "Window size: 5 \n",
       "Included exogenous: False \n",
       "Type of exogenous variable: None \n",
       "Exogenous variables names: None \n",
       "Training range: [0, 295] \n",
       "Training index type: RangeIndex \n",
       "Training index frequency: 1 \n",
       "Regressor parameters: {'bootstrap': True, 'ccp_alpha': 0.0, 'criterion': 'squared_error', 'max_depth': None, 'max_features': 1.0, 'max_leaf_nodes': None, 'max_samples': None, 'min_impurity_decrease': 0.0, 'min_samples_leaf': 1, 'min_samples_split': 2, 'min_weight_fraction_leaf': 0.0, 'n_estimators': 100, 'n_jobs': None, 'oob_score': False, 'random_state': 123, 'verbose': 0, 'warm_start': False} \n",
       "Creation date: 2022-11-14 04:22:54 \n",
       "Last fit date: 2022-11-14 04:22:54 \n",
       "Skforecast version: 0.5.1 \n",
       "Python version: 3.10.0 "
      ]
     },
     "execution_count": 173,
     "metadata": {},
     "output_type": "execute_result"
    }
   ],
   "source": [
    "# Create and train forecaster\n",
    "# ==============================================================================\n",
    "forecaster = ForecasterAutoreg(\n",
    "                regressor = RandomForestRegressor(random_state=123),\n",
    "                lags      = 5\n",
    "             )\n",
    "\n",
    "forecaster.fit(y=data_train['Number of Opioid Deaths'])\n",
    "forecaster"
   ]
  },
  {
   "cell_type": "code",
   "execution_count": 155,
   "id": "825190d4",
   "metadata": {
    "collapsed": true
   },
   "outputs": [
    {
     "ename": "Exception",
     "evalue": "`y` has missing values.",
     "output_type": "error",
     "traceback": [
      "\u001b[1;31m---------------------------------------------------------------------------\u001b[0m",
      "\u001b[1;31mException\u001b[0m                                 Traceback (most recent call last)",
      "\u001b[1;32m~\\AppData\\Local\\Temp\\ipykernel_15328\\1756705072.py\u001b[0m in \u001b[0;36m<module>\u001b[1;34m\u001b[0m\n\u001b[0;32m      2\u001b[0m     \u001b[0mfilterdf\u001b[0m \u001b[1;33m=\u001b[0m \u001b[0mdata_train\u001b[0m\u001b[1;33m[\u001b[0m\u001b[0mdata_train\u001b[0m\u001b[1;33m[\u001b[0m\u001b[1;34m'State'\u001b[0m\u001b[1;33m]\u001b[0m \u001b[1;33m==\u001b[0m \u001b[0mi\u001b[0m\u001b[1;33m]\u001b[0m\u001b[1;33m\u001b[0m\u001b[1;33m\u001b[0m\u001b[0m\n\u001b[0;32m      3\u001b[0m     \u001b[0mfilterdf\u001b[0m \u001b[1;33m=\u001b[0m \u001b[0mfilterdf\u001b[0m\u001b[1;33m.\u001b[0m\u001b[0masfreq\u001b[0m\u001b[1;33m(\u001b[0m\u001b[1;34m'A'\u001b[0m\u001b[1;33m)\u001b[0m\u001b[1;33m\u001b[0m\u001b[1;33m\u001b[0m\u001b[0m\n\u001b[1;32m----> 4\u001b[1;33m     \u001b[0mforecaster\u001b[0m\u001b[1;33m.\u001b[0m\u001b[0mfit\u001b[0m\u001b[1;33m(\u001b[0m\u001b[0my\u001b[0m\u001b[1;33m=\u001b[0m\u001b[0mfilterdf\u001b[0m\u001b[1;33m[\u001b[0m\u001b[1;34m'Number of Opioid Deaths'\u001b[0m\u001b[1;33m]\u001b[0m\u001b[1;33m)\u001b[0m\u001b[1;33m\u001b[0m\u001b[1;33m\u001b[0m\u001b[0m\n\u001b[0m",
      "\u001b[1;32m~\\AppData\\Roaming\\Python\\Python310\\site-packages\\skforecast\\ForecasterAutoreg\\ForecasterAutoreg.py\u001b[0m in \u001b[0;36mfit\u001b[1;34m(self, y, exog)\u001b[0m\n\u001b[0;32m    425\u001b[0m                  \u001b[0mexog\u001b[0m\u001b[1;33m.\u001b[0m\u001b[0mcolumns\u001b[0m\u001b[1;33m.\u001b[0m\u001b[0mto_list\u001b[0m\u001b[1;33m(\u001b[0m\u001b[1;33m)\u001b[0m \u001b[1;32mif\u001b[0m \u001b[0misinstance\u001b[0m\u001b[1;33m(\u001b[0m\u001b[0mexog\u001b[0m\u001b[1;33m,\u001b[0m \u001b[0mpd\u001b[0m\u001b[1;33m.\u001b[0m\u001b[0mDataFrame\u001b[0m\u001b[1;33m)\u001b[0m \u001b[1;32melse\u001b[0m \u001b[0mexog\u001b[0m\u001b[1;33m.\u001b[0m\u001b[0mname\u001b[0m\u001b[1;33m\u001b[0m\u001b[1;33m\u001b[0m\u001b[0m\n\u001b[0;32m    426\u001b[0m \u001b[1;33m\u001b[0m\u001b[0m\n\u001b[1;32m--> 427\u001b[1;33m         \u001b[0mX_train\u001b[0m\u001b[1;33m,\u001b[0m \u001b[0my_train\u001b[0m \u001b[1;33m=\u001b[0m \u001b[0mself\u001b[0m\u001b[1;33m.\u001b[0m\u001b[0mcreate_train_X_y\u001b[0m\u001b[1;33m(\u001b[0m\u001b[0my\u001b[0m\u001b[1;33m=\u001b[0m\u001b[0my\u001b[0m\u001b[1;33m,\u001b[0m \u001b[0mexog\u001b[0m\u001b[1;33m=\u001b[0m\u001b[0mexog\u001b[0m\u001b[1;33m)\u001b[0m\u001b[1;33m\u001b[0m\u001b[1;33m\u001b[0m\u001b[0m\n\u001b[0m\u001b[0;32m    428\u001b[0m \u001b[1;33m\u001b[0m\u001b[0m\n\u001b[0;32m    429\u001b[0m         \u001b[1;32mif\u001b[0m \u001b[1;32mnot\u001b[0m \u001b[0mstr\u001b[0m\u001b[1;33m(\u001b[0m\u001b[0mtype\u001b[0m\u001b[1;33m(\u001b[0m\u001b[0mself\u001b[0m\u001b[1;33m.\u001b[0m\u001b[0mregressor\u001b[0m\u001b[1;33m)\u001b[0m\u001b[1;33m)\u001b[0m \u001b[1;33m==\u001b[0m \u001b[1;34m\"<class 'xgboost.sklearn.XGBRegressor'>\"\u001b[0m\u001b[1;33m:\u001b[0m\u001b[1;33m\u001b[0m\u001b[1;33m\u001b[0m\u001b[0m\n",
      "\u001b[1;32m~\\AppData\\Roaming\\Python\\Python310\\site-packages\\skforecast\\ForecasterAutoreg\\ForecasterAutoreg.py\u001b[0m in \u001b[0;36mcreate_train_X_y\u001b[1;34m(self, y, exog)\u001b[0m\n\u001b[0;32m    320\u001b[0m         \"\"\"\n\u001b[0;32m    321\u001b[0m \u001b[1;33m\u001b[0m\u001b[0m\n\u001b[1;32m--> 322\u001b[1;33m         \u001b[0mcheck_y\u001b[0m\u001b[1;33m(\u001b[0m\u001b[0my\u001b[0m\u001b[1;33m=\u001b[0m\u001b[0my\u001b[0m\u001b[1;33m)\u001b[0m\u001b[1;33m\u001b[0m\u001b[1;33m\u001b[0m\u001b[0m\n\u001b[0m\u001b[0;32m    323\u001b[0m         y = transform_series(\n\u001b[0;32m    324\u001b[0m                 \u001b[0mseries\u001b[0m            \u001b[1;33m=\u001b[0m \u001b[0my\u001b[0m\u001b[1;33m,\u001b[0m\u001b[1;33m\u001b[0m\u001b[1;33m\u001b[0m\u001b[0m\n",
      "\u001b[1;32m~\\AppData\\Roaming\\Python\\Python310\\site-packages\\skforecast\\utils\\utils.py\u001b[0m in \u001b[0;36mcheck_y\u001b[1;34m(y)\u001b[0m\n\u001b[0;32m     36\u001b[0m \u001b[1;33m\u001b[0m\u001b[0m\n\u001b[0;32m     37\u001b[0m     \u001b[1;32mif\u001b[0m \u001b[0my\u001b[0m\u001b[1;33m.\u001b[0m\u001b[0misnull\u001b[0m\u001b[1;33m(\u001b[0m\u001b[1;33m)\u001b[0m\u001b[1;33m.\u001b[0m\u001b[0many\u001b[0m\u001b[1;33m(\u001b[0m\u001b[1;33m)\u001b[0m\u001b[1;33m:\u001b[0m\u001b[1;33m\u001b[0m\u001b[1;33m\u001b[0m\u001b[0m\n\u001b[1;32m---> 38\u001b[1;33m         \u001b[1;32mraise\u001b[0m \u001b[0mException\u001b[0m\u001b[1;33m(\u001b[0m\u001b[1;34m'`y` has missing values.'\u001b[0m\u001b[1;33m)\u001b[0m\u001b[1;33m\u001b[0m\u001b[1;33m\u001b[0m\u001b[0m\n\u001b[0m\u001b[0;32m     39\u001b[0m \u001b[1;33m\u001b[0m\u001b[0m\n\u001b[0;32m     40\u001b[0m     \u001b[1;32mreturn\u001b[0m\u001b[1;33m\u001b[0m\u001b[1;33m\u001b[0m\u001b[0m\n",
      "\u001b[1;31mException\u001b[0m: `y` has missing values."
     ]
    }
   ],
   "source": [
    "for i in Stateslist[0:2]:\n",
    "    filterdf = data_train[data_train['State'] == i]\n",
    "    filterdf = filterdf.asfreq('A')\n",
    "    forecaster.fit(y=filterdf['Number of Opioid Deaths'])\n"
   ]
  },
  {
   "cell_type": "code",
   "execution_count": 156,
   "id": "6ea06e02",
   "metadata": {},
   "outputs": [
    {
     "data": {
      "text/plain": [
       "================= \n",
       "ForecasterAutoreg \n",
       "================= \n",
       "Regressor: RandomForestRegressor(random_state=123) \n",
       "Lags: [1 2 3 4 5] \n",
       "Transformer for y: None \n",
       "Transformer for exog: None \n",
       "Window size: 5 \n",
       "Included exogenous: False \n",
       "Type of exogenous variable: None \n",
       "Exogenous variables names: None \n",
       "Training range: None \n",
       "Training index type: None \n",
       "Training index frequency: None \n",
       "Regressor parameters: {'bootstrap': True, 'ccp_alpha': 0.0, 'criterion': 'squared_error', 'max_depth': None, 'max_features': 1.0, 'max_leaf_nodes': None, 'max_samples': None, 'min_impurity_decrease': 0.0, 'min_samples_leaf': 1, 'min_samples_split': 2, 'min_weight_fraction_leaf': 0.0, 'n_estimators': 100, 'n_jobs': None, 'oob_score': False, 'random_state': 123, 'verbose': 0, 'warm_start': False} \n",
       "Creation date: 2022-11-14 04:01:41 \n",
       "Last fit date: None \n",
       "Skforecast version: 0.5.1 \n",
       "Python version: 3.10.0 "
      ]
     },
     "execution_count": 156,
     "metadata": {},
     "output_type": "execute_result"
    }
   ],
   "source": [
    "forecaster"
   ]
  },
  {
   "cell_type": "code",
   "execution_count": 174,
   "id": "e15caf33",
   "metadata": {},
   "outputs": [
    {
     "name": "stderr",
     "output_type": "stream",
     "text": [
      "C:\\Users\\John\\AppData\\Roaming\\Python\\Python310\\site-packages\\skforecast\\utils\\utils.py:427: UserWarning: `last_window` has no DatetimeIndex nor RangeIndex index. Index is overwritten with a RangeIndex.\n",
      "  warnings.warn(\n"
     ]
    },
    {
     "data": {
      "text/plain": [
       "5    824.05\n",
       "6    851.55\n",
       "7    892.20\n",
       "8    917.32\n",
       "9    940.61\n",
       "Name: pred, dtype: float64"
      ]
     },
     "execution_count": 174,
     "metadata": {},
     "output_type": "execute_result"
    }
   ],
   "source": [
    "# Predictions\n",
    "steps = 51\n",
    "predictions = forecaster.predict(steps=steps)\n",
    "predictions.head(5)"
   ]
  },
  {
   "cell_type": "code",
   "execution_count": 175,
   "id": "e7d84dfb",
   "metadata": {},
   "outputs": [
    {
     "data": {
      "text/plain": [
       "5      824.05\n",
       "6      851.55\n",
       "7      892.20\n",
       "8      917.32\n",
       "9      940.61\n",
       "10     732.22\n",
       "11     754.95\n",
       "12     850.67\n",
       "13     737.94\n",
       "14    1167.00\n",
       "15    1227.56\n",
       "16     817.59\n",
       "17    1100.66\n",
       "18     935.43\n",
       "19     877.80\n",
       "20     830.58\n",
       "21     624.54\n",
       "22     851.46\n",
       "23     962.00\n",
       "24     649.76\n",
       "25    1183.59\n",
       "26     976.46\n",
       "27     685.23\n",
       "28    1167.00\n",
       "29     750.80\n",
       "30     895.54\n",
       "31    1177.57\n",
       "32     771.53\n",
       "33    1120.98\n",
       "34    1110.23\n",
       "35     842.13\n",
       "36    1004.19\n",
       "37     680.81\n",
       "38     981.38\n",
       "39     866.36\n",
       "40     675.32\n",
       "41    1204.37\n",
       "42     761.70\n",
       "43     874.84\n",
       "44    1077.05\n",
       "45     673.63\n",
       "46    1314.98\n",
       "47     823.79\n",
       "48     657.35\n",
       "49    1224.63\n",
       "50    1017.88\n",
       "51     642.20\n",
       "52    1411.17\n",
       "53     725.49\n",
       "54     803.71\n",
       "55    1135.71\n",
       "Name: pred, dtype: float64"
      ]
     },
     "execution_count": 175,
     "metadata": {},
     "output_type": "execute_result"
    }
   ],
   "source": [
    "predictions"
   ]
  },
  {
   "cell_type": "code",
   "execution_count": 176,
   "id": "7e590a45",
   "metadata": {},
   "outputs": [
    {
     "data": {
      "image/png": "[encoded data removed]",
      "text/plain": [
       "<Figure size 648x288 with 1 Axes>"
      ]
     },
     "metadata": {
      "needs_background": "light"
     },
     "output_type": "display_data"
    }
   ],
   "source": [
    "# Plot\n",
    "# ==============================================================================\n",
    "fig, ax = plt.subplots(figsize=(9, 4))\n",
    "data_train['Number of Opioid Deaths'].plot(ax=ax, label='train')\n",
    "data_test['Number of Opioid Deaths'].plot(ax=ax, label='test')\n",
    "predictions.plot(ax=ax, label='predictions')\n",
    "ax.legend();"
   ]
  },
  {
   "cell_type": "code",
   "execution_count": 148,
   "id": "5a8c62fa",
   "metadata": {},
   "outputs": [
    {
     "name": "stdout",
     "output_type": "stream",
     "text": [
      "Test error (mse): 4157659.6776176468\n"
     ]
    }
   ],
   "source": [
    "# Test error\n",
    "error_mse = mean_squared_error(\n",
    "                y_true = data_test['Number of Opioid Deaths'],\n",
    "                y_pred = predictions\n",
    "            )\n",
    "\n",
    "print(f\"Test error (mse): {error_mse}\")"
   ]
  },
  {
   "cell_type": "code",
   "execution_count": null,
   "id": "c26a4919",
   "metadata": {},
   "outputs": [],
   "source": []
  },
  {
   "cell_type": "code",
   "execution_count": 177,
   "id": "75830e2b",
   "metadata": {},
   "outputs": [
    {
     "data": {
      "image/png": "[encoded data removed]",
      "text/plain": [
       "<Figure size 936x288 with 1 Axes>"
      ]
     },
     "metadata": {
      "needs_background": "light"
     },
     "output_type": "display_data"
    }
   ],
   "source": [
    "fig, ax=plt.subplots(figsize=(13, 4))\n",
    "data['Number of Opioid Deaths'].plot(ax=ax, label='train')\n",
    "ax.legend();"
   ]
  },
  {
   "cell_type": "code",
   "execution_count": null,
   "id": "42f511eb",
   "metadata": {},
   "outputs": [],
   "source": []
  },
  {
   "cell_type": "code",
   "execution_count": null,
   "id": "de1bac27",
   "metadata": {},
   "outputs": [],
   "source": []
  },
  {
   "cell_type": "code",
   "execution_count": null,
   "id": "412308fe",
   "metadata": {},
   "outputs": [],
   "source": []
  },
  {
   "cell_type": "code",
   "execution_count": null,
   "id": "c52bd327",
   "metadata": {},
   "outputs": [],
   "source": []
  },
  {
   "cell_type": "code",
   "execution_count": null,
   "id": "ce7373ec",
   "metadata": {},
   "outputs": [],
   "source": []
  },
  {
   "cell_type": "code",
   "execution_count": null,
   "id": "a6278d67",
   "metadata": {},
   "outputs": [],
   "source": []
  },
  {
   "cell_type": "code",
   "execution_count": null,
   "id": "c442e8f2",
   "metadata": {},
   "outputs": [],
   "source": []
  }
 ],
 "metadata": {
  "kernelspec": {
   "display_name": "Python 3 (ipykernel)",
   "language": "python",
   "name": "python3"
  },
  "language_info": {
   "codemirror_mode": {
    "name": "ipython",
    "version": 3
   },
   "file_extension": ".py",
   "mimetype": "text/x-python",
   "name": "python",
   "nbconvert_exporter": "python",
   "pygments_lexer": "ipython3",
   "version": "3.10.0"
  }
 },
 "nbformat": 4,
 "nbformat_minor": 5
}
